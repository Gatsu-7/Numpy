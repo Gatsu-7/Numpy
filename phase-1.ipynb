{
 "cells": [
  {
   "cell_type": "markdown",
   "metadata": {},
   "source": [
    "learn about numpy using vscode\n"
   ]
  },
  {
   "cell_type": "markdown",
   "metadata": {},
   "source": [
    "### importing numpy in python"
   ]
  },
  {
   "cell_type": "code",
   "execution_count": 2,
   "metadata": {},
   "outputs": [],
   "source": [
    "import numpy as np"
   ]
  },
  {
   "cell_type": "markdown",
   "metadata": {},
   "source": [
    "###  Creating array from list"
   ]
  },
  {
   "cell_type": "code",
   "execution_count": 2,
   "metadata": {},
   "outputs": [
    {
     "name": "stdout",
     "output_type": "stream",
     "text": [
      "1D array:  [1 2 3 4 5]\n"
     ]
    }
   ],
   "source": [
    "arr_1d=np.array([1,2,3,4,5])\n",
    "print(\"1D array: \",arr_1d)"
   ]
  },
  {
   "cell_type": "code",
   "execution_count": 7,
   "metadata": {},
   "outputs": [
    {
     "name": "stdout",
     "output_type": "stream",
     "text": [
      "2D Array : [[   1    2 3235]\n",
      " [2235    3    4]]\n"
     ]
    }
   ],
   "source": [
    "arr_2d=np.array([[1,2,3235],[2235,3,4]])\n",
    "print(\"2D Array :\",arr_2d)"
   ]
  },
  {
   "cell_type": "markdown",
   "metadata": {},
   "source": [
    "### List vs Numpy array\n"
   ]
  },
  {
   "cell_type": "markdown",
   "metadata": {},
   "source": [
    "numpy arrays are faster than list\n"
   ]
  },
  {
   "cell_type": "markdown",
   "metadata": {},
   "source": [
    "## creating array from scratch"
   ]
  },
  {
   "cell_type": "code",
   "execution_count": 9,
   "metadata": {},
   "outputs": [
    {
     "name": "stdout",
     "output_type": "stream",
     "text": [
      "Zeros array: \n",
      " [[0. 0. 0. 0.]\n",
      " [0. 0. 0. 0.]\n",
      " [0. 0. 0. 0.]]\n",
      "Ones Array: \n",
      " [[1. 1. 1.]\n",
      " [1. 1. 1.]]\n",
      "Full Array: \n",
      " [[7 7 7]\n",
      " [7 7 7]]\n",
      "Random Array: \n",
      " [[0.50147033 0.9398112  0.48660509]\n",
      " [0.93828141 0.48991613 0.0025921 ]]\n",
      "Sequence Array \n",
      ": [0 2 4 6 8]\n"
     ]
    }
   ],
   "source": [
    "zeros=np.zeros((3,4))\n",
    "print(\"Zeros array: \\n\",zeros)\n",
    "\n",
    "ones=np.ones((2,3))\n",
    "print(\"Ones Array: \\n\",ones)\n",
    "\n",
    "full=np.full((2,3),7)\n",
    "print( \"Full Array: \\n\",full)\n",
    "\n",
    "random=np.random.random((2,3))\n",
    "print(\"Random Array: \\n\",random)\n",
    "\n",
    "sequence=np.arange(0,10,2)\n",
    "print(\"Sequence Array \\n:\",sequence)"
   ]
  },
  {
   "cell_type": "markdown",
   "metadata": {},
   "source": [
    "### Vector, Matrix and Tensor"
   ]
  },
  {
   "cell_type": "code",
   "execution_count": 13,
   "metadata": {},
   "outputs": [
    {
     "name": "stdout",
     "output_type": "stream",
     "text": [
      "Vector \n",
      " [1 2 3 4]\n",
      "Matrix \n",
      " [[1 2 3]\n",
      " [4 5 6]]\n",
      "Tensor \n",
      " [[1 2]\n",
      " [3 4]\n",
      " [5 6]\n",
      " [6 7]]\n"
     ]
    }
   ],
   "source": [
    "vector=np.array([1,2,3,4])\n",
    "print (\"Vector \\n\",vector)\n",
    "\n",
    "matrix=np.array([[1,2,3],[4,5,6]])\n",
    "print (\"Matrix \\n\",matrix)\n",
    "\n",
    "tensor=np.array([[1,2],[3,4],[5,6],[6,7]])\n",
    "print (\"Tensor \\n\",tensor)\n",
    "\n"
   ]
  },
  {
   "cell_type": "markdown",
   "metadata": {},
   "source": [
    "## Array Properties"
   ]
  },
  {
   "cell_type": "code",
   "execution_count": null,
   "metadata": {},
   "outputs": [
    {
     "name": "stdout",
     "output_type": "stream",
     "text": [
      "Shape (2, 3)\n",
      "Dimension 2\n",
      "Size 6\n",
      "DType int64\n"
     ]
    }
   ],
   "source": [
    "arr=np.array([[1,2,3235],\n",
    "              [2235,3,4]])\n",
    "\n",
    "print(\"Shape\",arr.shape)\n",
    "print(\"Dimension\",arr.ndim)\n",
    "print(\"Size\",arr.size)\n",
    "print(\"DType\",arr.dtype)\n",
    "\n"
   ]
  },
  {
   "cell_type": "markdown",
   "metadata": {},
   "source": [
    "### Array Reshaping"
   ]
  },
  {
   "cell_type": "code",
   "execution_count": 22,
   "metadata": {},
   "outputs": [
    {
     "name": "stdout",
     "output_type": "stream",
     "text": [
      "Original Array:\n",
      " [ 0  1  2  3  4  5  6  7  8  9 10 11]\n",
      "Reshaped Array: \n",
      " [[ 0  1  2]\n",
      " [ 3  4  5]\n",
      " [ 6  7  8]\n",
      " [ 9 10 11]]\n",
      "Flattened Array: \n",
      " [ 0  1  2  3  4  5  6  7  8  9 10 11]\n",
      "Raveled Array :\n",
      " [ 0  1  2  3  4  5  6  7  8  9 10 11]\n",
      "Transpose: \n",
      " [[ 0  3  6  9]\n",
      " [ 1  4  7 10]\n",
      " [ 2  5  8 11]]\n"
     ]
    }
   ],
   "source": [
    "arr1=np.arange(12)\n",
    "print(\"Original Array:\\n\",arr1)\n",
    "\n",
    "reshaped=arr1.reshape((4,3))\n",
    "print(\"Reshaped Array: \\n\",reshaped)\n",
    "\n",
    "flattened=reshaped.flatten()\n",
    "print(\"Flattened Array: \\n\",flattened)\n",
    "\n",
    "#ravel returns original instead of the copy \n",
    "\n",
    "raveled=reshaped.ravel()\n",
    "print(\"Raveled Array :\\n\",raveled)\n",
    "\n",
    "#Transpose\n",
    "Transpose=reshaped.T\n",
    "print(\"Transpose: \\n\",Transpose)"
   ]
  }
 ],
 "metadata": {
  "kernelspec": {
   "display_name": "venv",
   "language": "python",
   "name": "python3"
  },
  "language_info": {
   "codemirror_mode": {
    "name": "ipython",
    "version": 3
   },
   "file_extension": ".py",
   "mimetype": "text/x-python",
   "name": "python",
   "nbconvert_exporter": "python",
   "pygments_lexer": "ipython3",
   "version": "3.12.6"
  }
 },
 "nbformat": 4,
 "nbformat_minor": 2
}
